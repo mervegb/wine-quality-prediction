{
 "cells": [
  {
   "cell_type": "markdown",
   "id": "c9def14b",
   "metadata": {
    "papermill": {
     "duration": 0.01271,
     "end_time": "2024-11-06T13:59:13.301970",
     "exception": false,
     "start_time": "2024-11-06T13:59:13.289260",
     "status": "completed"
    },
    "tags": []
   },
   "source": [
    "Exploration on the data using matplotlib and seaborn\n",
    "\n",
    "Different Classifier models to predict the quality of wine -> Random Forest Classifier, Stochastic Gradient Descent Classifier, Support Vector Classifier\n",
    "\n",
    "Cross Validaiton Evaluation technique to optimize model performance"
   ]
  },
  {
   "cell_type": "code",
   "execution_count": 1,
   "id": "6865cfbf",
   "metadata": {
    "execution": {
     "iopub.execute_input": "2024-11-06T13:59:13.327486Z",
     "iopub.status.busy": "2024-11-06T13:59:13.326994Z",
     "iopub.status.idle": "2024-11-06T13:59:17.874260Z",
     "shell.execute_reply": "2024-11-06T13:59:17.872956Z"
    },
    "papermill": {
     "duration": 4.563745,
     "end_time": "2024-11-06T13:59:17.877203",
     "exception": false,
     "start_time": "2024-11-06T13:59:13.313458",
     "status": "completed"
    },
    "tags": []
   },
   "outputs": [],
   "source": [
    "import pandas as pd\n",
    "import seaborn as sns\n",
    "import matplotlib.pyplot as plt\n",
    "\n",
    "from sklearn.ensemble import RandomForestClassifier\n",
    "from sklearn.svm import SVC\n",
    "from sklearn.linear_model import SGDClassifier\n",
    "from sklearn.metrics import confusion_matrix, classification_report\n",
    "from sklearn.preprocessing import StandardScaler, LabelEncoder\n",
    "from sklearn.model_selection import train_test_split, GridSearchCV,cross_val_score\n",
    "%matplotlib inline"
   ]
  },
  {
   "cell_type": "code",
   "execution_count": 2,
   "id": "7144cfc3",
   "metadata": {
    "execution": {
     "iopub.execute_input": "2024-11-06T13:59:17.901785Z",
     "iopub.status.busy": "2024-11-06T13:59:17.901059Z",
     "iopub.status.idle": "2024-11-06T13:59:17.933011Z",
     "shell.execute_reply": "2024-11-06T13:59:17.931695Z"
    },
    "papermill": {
     "duration": 0.047537,
     "end_time": "2024-11-06T13:59:17.936014",
     "exception": false,
     "start_time": "2024-11-06T13:59:17.888477",
     "status": "completed"
    },
    "tags": []
   },
   "outputs": [],
   "source": [
    "#Loading the dataset\n",
    "wine = pd.read_csv('/kaggle/input/red-wine-quality-cortez-et-al-2009/winequality-red.csv')"
   ]
  },
  {
   "cell_type": "code",
   "execution_count": 3,
   "id": "c00e58fd",
   "metadata": {
    "execution": {
     "iopub.execute_input": "2024-11-06T13:59:17.960691Z",
     "iopub.status.busy": "2024-11-06T13:59:17.960191Z",
     "iopub.status.idle": "2024-11-06T13:59:18.001571Z",
     "shell.execute_reply": "2024-11-06T13:59:18.000144Z"
    },
    "papermill": {
     "duration": 0.057106,
     "end_time": "2024-11-06T13:59:18.004674",
     "exception": false,
     "start_time": "2024-11-06T13:59:17.947568",
     "status": "completed"
    },
    "tags": []
   },
   "outputs": [
    {
     "data": {
      "text/html": [
       "<div>\n",
       "<style scoped>\n",
       "    .dataframe tbody tr th:only-of-type {\n",
       "        vertical-align: middle;\n",
       "    }\n",
       "\n",
       "    .dataframe tbody tr th {\n",
       "        vertical-align: top;\n",
       "    }\n",
       "\n",
       "    .dataframe thead th {\n",
       "        text-align: right;\n",
       "    }\n",
       "</style>\n",
       "<table border=\"1\" class=\"dataframe\">\n",
       "  <thead>\n",
       "    <tr style=\"text-align: right;\">\n",
       "      <th></th>\n",
       "      <th>fixed acidity</th>\n",
       "      <th>volatile acidity</th>\n",
       "      <th>citric acid</th>\n",
       "      <th>residual sugar</th>\n",
       "      <th>chlorides</th>\n",
       "      <th>free sulfur dioxide</th>\n",
       "      <th>total sulfur dioxide</th>\n",
       "      <th>density</th>\n",
       "      <th>pH</th>\n",
       "      <th>sulphates</th>\n",
       "      <th>alcohol</th>\n",
       "      <th>quality</th>\n",
       "    </tr>\n",
       "  </thead>\n",
       "  <tbody>\n",
       "    <tr>\n",
       "      <th>0</th>\n",
       "      <td>7.4</td>\n",
       "      <td>0.70</td>\n",
       "      <td>0.00</td>\n",
       "      <td>1.9</td>\n",
       "      <td>0.076</td>\n",
       "      <td>11.0</td>\n",
       "      <td>34.0</td>\n",
       "      <td>0.9978</td>\n",
       "      <td>3.51</td>\n",
       "      <td>0.56</td>\n",
       "      <td>9.4</td>\n",
       "      <td>5</td>\n",
       "    </tr>\n",
       "    <tr>\n",
       "      <th>1</th>\n",
       "      <td>7.8</td>\n",
       "      <td>0.88</td>\n",
       "      <td>0.00</td>\n",
       "      <td>2.6</td>\n",
       "      <td>0.098</td>\n",
       "      <td>25.0</td>\n",
       "      <td>67.0</td>\n",
       "      <td>0.9968</td>\n",
       "      <td>3.20</td>\n",
       "      <td>0.68</td>\n",
       "      <td>9.8</td>\n",
       "      <td>5</td>\n",
       "    </tr>\n",
       "    <tr>\n",
       "      <th>2</th>\n",
       "      <td>7.8</td>\n",
       "      <td>0.76</td>\n",
       "      <td>0.04</td>\n",
       "      <td>2.3</td>\n",
       "      <td>0.092</td>\n",
       "      <td>15.0</td>\n",
       "      <td>54.0</td>\n",
       "      <td>0.9970</td>\n",
       "      <td>3.26</td>\n",
       "      <td>0.65</td>\n",
       "      <td>9.8</td>\n",
       "      <td>5</td>\n",
       "    </tr>\n",
       "    <tr>\n",
       "      <th>3</th>\n",
       "      <td>11.2</td>\n",
       "      <td>0.28</td>\n",
       "      <td>0.56</td>\n",
       "      <td>1.9</td>\n",
       "      <td>0.075</td>\n",
       "      <td>17.0</td>\n",
       "      <td>60.0</td>\n",
       "      <td>0.9980</td>\n",
       "      <td>3.16</td>\n",
       "      <td>0.58</td>\n",
       "      <td>9.8</td>\n",
       "      <td>6</td>\n",
       "    </tr>\n",
       "    <tr>\n",
       "      <th>4</th>\n",
       "      <td>7.4</td>\n",
       "      <td>0.70</td>\n",
       "      <td>0.00</td>\n",
       "      <td>1.9</td>\n",
       "      <td>0.076</td>\n",
       "      <td>11.0</td>\n",
       "      <td>34.0</td>\n",
       "      <td>0.9978</td>\n",
       "      <td>3.51</td>\n",
       "      <td>0.56</td>\n",
       "      <td>9.4</td>\n",
       "      <td>5</td>\n",
       "    </tr>\n",
       "  </tbody>\n",
       "</table>\n",
       "</div>"
      ],
      "text/plain": [
       "   fixed acidity  volatile acidity  citric acid  residual sugar  chlorides  \\\n",
       "0            7.4              0.70         0.00             1.9      0.076   \n",
       "1            7.8              0.88         0.00             2.6      0.098   \n",
       "2            7.8              0.76         0.04             2.3      0.092   \n",
       "3           11.2              0.28         0.56             1.9      0.075   \n",
       "4            7.4              0.70         0.00             1.9      0.076   \n",
       "\n",
       "   free sulfur dioxide  total sulfur dioxide  density    pH  sulphates  \\\n",
       "0                 11.0                  34.0   0.9978  3.51       0.56   \n",
       "1                 25.0                  67.0   0.9968  3.20       0.68   \n",
       "2                 15.0                  54.0   0.9970  3.26       0.65   \n",
       "3                 17.0                  60.0   0.9980  3.16       0.58   \n",
       "4                 11.0                  34.0   0.9978  3.51       0.56   \n",
       "\n",
       "   alcohol  quality  \n",
       "0      9.4        5  \n",
       "1      9.8        5  \n",
       "2      9.8        5  \n",
       "3      9.8        6  \n",
       "4      9.4        5  "
      ]
     },
     "execution_count": 3,
     "metadata": {},
     "output_type": "execute_result"
    }
   ],
   "source": [
    "wine.head()"
   ]
  },
  {
   "cell_type": "code",
   "execution_count": 4,
   "id": "3778081c",
   "metadata": {
    "execution": {
     "iopub.execute_input": "2024-11-06T13:59:18.031036Z",
     "iopub.status.busy": "2024-11-06T13:59:18.030539Z",
     "iopub.status.idle": "2024-11-06T13:59:18.068745Z",
     "shell.execute_reply": "2024-11-06T13:59:18.067301Z"
    },
    "papermill": {
     "duration": 0.054075,
     "end_time": "2024-11-06T13:59:18.071701",
     "exception": false,
     "start_time": "2024-11-06T13:59:18.017626",
     "status": "completed"
    },
    "tags": []
   },
   "outputs": [
    {
     "name": "stdout",
     "output_type": "stream",
     "text": [
      "<class 'pandas.core.frame.DataFrame'>\n",
      "RangeIndex: 1599 entries, 0 to 1598\n",
      "Data columns (total 12 columns):\n",
      " #   Column                Non-Null Count  Dtype  \n",
      "---  ------                --------------  -----  \n",
      " 0   fixed acidity         1599 non-null   float64\n",
      " 1   volatile acidity      1599 non-null   float64\n",
      " 2   citric acid           1599 non-null   float64\n",
      " 3   residual sugar        1599 non-null   float64\n",
      " 4   chlorides             1599 non-null   float64\n",
      " 5   free sulfur dioxide   1599 non-null   float64\n",
      " 6   total sulfur dioxide  1599 non-null   float64\n",
      " 7   density               1599 non-null   float64\n",
      " 8   pH                    1599 non-null   float64\n",
      " 9   sulphates             1599 non-null   float64\n",
      " 10  alcohol               1599 non-null   float64\n",
      " 11  quality               1599 non-null   int64  \n",
      "dtypes: float64(11), int64(1)\n",
      "memory usage: 150.0 KB\n"
     ]
    }
   ],
   "source": [
    "#Information about the data columns\n",
    "wine.info()"
   ]
  },
  {
   "cell_type": "code",
   "execution_count": 5,
   "id": "d3a312e2",
   "metadata": {
    "execution": {
     "iopub.execute_input": "2024-11-06T13:59:18.097497Z",
     "iopub.status.busy": "2024-11-06T13:59:18.097057Z",
     "iopub.status.idle": "2024-11-06T13:59:18.606819Z",
     "shell.execute_reply": "2024-11-06T13:59:18.605493Z"
    },
    "papermill": {
     "duration": 0.52634,
     "end_time": "2024-11-06T13:59:18.610198",
     "exception": false,
     "start_time": "2024-11-06T13:59:18.083858",
     "status": "completed"
    },
    "tags": []
   },
   "outputs": [
    {
     "data": {
      "text/plain": [
       "<Axes: xlabel='quality', ylabel='fixed acidity'>"
      ]
     },
     "execution_count": 5,
     "metadata": {},
     "output_type": "execute_result"
    },
    {
     "data": {
      "image/png": "[encoded data removed]",
      "text/plain": [
       "<Figure size 1000x600 with 1 Axes>"
      ]
     },
     "metadata": {},
     "output_type": "display_data"
    }
   ],
   "source": [
    "# We see that fixed acidity doesn't give any specification to classify the quality\n",
    "fig = plt.figure(figsize=(10,6))\n",
    "sns.barplot(x=\"quality\", y='fixed acidity', data=wine)"
   ]
  },
  {
   "cell_type": "code",
   "execution_count": 6,
   "id": "09d8642b",
   "metadata": {
    "execution": {
     "iopub.execute_input": "2024-11-06T13:59:18.638518Z",
     "iopub.status.busy": "2024-11-06T13:59:18.638022Z",
     "iopub.status.idle": "2024-11-06T13:59:19.087283Z",
     "shell.execute_reply": "2024-11-06T13:59:19.086032Z"
    },
    "papermill": {
     "duration": 0.466725,
     "end_time": "2024-11-06T13:59:19.089980",
     "exception": false,
     "start_time": "2024-11-06T13:59:18.623255",
     "status": "completed"
    },
    "tags": []
   },
   "outputs": [
    {
     "data": {
      "text/plain": [
       "<Axes: xlabel='quality', ylabel='volatile acidity'>"
      ]
     },
     "execution_count": 6,
     "metadata": {},
     "output_type": "execute_result"
    },
    {
     "data": {
      "image/png": "[encoded data removed]",
      "text/plain": [
       "<Figure size 1000x600 with 1 Axes>"
      ]
     },
     "metadata": {},
     "output_type": "display_data"
    }
   ],
   "source": [
    "# We see that it's quite a downing trend in the volatile acidity as we go higher the quality\n",
    "fig = plt.figure(figsize=(10,6))\n",
    "sns.barplot(x='quality', y=\"volatile acidity\", data=wine)"
   ]
  },
  {
   "cell_type": "code",
   "execution_count": 7,
   "id": "041377d2",
   "metadata": {
    "execution": {
     "iopub.execute_input": "2024-11-06T13:59:19.117524Z",
     "iopub.status.busy": "2024-11-06T13:59:19.117071Z",
     "iopub.status.idle": "2024-11-06T13:59:19.622644Z",
     "shell.execute_reply": "2024-11-06T13:59:19.620991Z"
    },
    "papermill": {
     "duration": 0.523331,
     "end_time": "2024-11-06T13:59:19.626282",
     "exception": false,
     "start_time": "2024-11-06T13:59:19.102951",
     "status": "completed"
    },
    "tags": []
   },
   "outputs": [
    {
     "data": {
      "text/plain": [
       "<Axes: xlabel='quality', ylabel='citric acid'>"
      ]
     },
     "execution_count": 7,
     "metadata": {},
     "output_type": "execute_result"
    },
    {
     "data": {
      "image/png": "[encoded data removed]",
      "text/plain": [
       "<Figure size 1000x600 with 1 Axes>"
      ]
     },
     "metadata": {},
     "output_type": "display_data"
    }
   ],
   "source": [
    "# Citric acid go higher as we go higher in the quality of wine\n",
    "fig = plt.figure(figsize=(10,6))\n",
    "sns.barplot(x=\"quality\", y=\"citric acid\", data=wine)"
   ]
  },
  {
   "cell_type": "code",
   "execution_count": 8,
   "id": "5e3d6f82",
   "metadata": {
    "execution": {
     "iopub.execute_input": "2024-11-06T13:59:19.655933Z",
     "iopub.status.busy": "2024-11-06T13:59:19.654702Z",
     "iopub.status.idle": "2024-11-06T13:59:20.213785Z",
     "shell.execute_reply": "2024-11-06T13:59:20.211881Z"
    },
    "papermill": {
     "duration": 0.577382,
     "end_time": "2024-11-06T13:59:20.217283",
     "exception": false,
     "start_time": "2024-11-06T13:59:19.639901",
     "status": "completed"
    },
    "tags": []
   },
   "outputs": [
    {
     "data": {
      "text/plain": [
       "<Axes: xlabel='quality', ylabel='residual sugar'>"
      ]
     },
     "execution_count": 8,
     "metadata": {},
     "output_type": "execute_result"
    },
    {
     "data": {
      "image/png": "[encoded data removed]",
      "text/plain": [
       "<Figure size 1000x600 with 1 Axes>"
      ]
     },
     "metadata": {},
     "output_type": "display_data"
    }
   ],
   "source": [
    "fig = plt.figure(figsize=(10,6))\n",
    "sns.barplot(x='quality', y='residual sugar', data=wine)"
   ]
  },
  {
   "cell_type": "code",
   "execution_count": 9,
   "id": "888ac2d9",
   "metadata": {
    "execution": {
     "iopub.execute_input": "2024-11-06T13:59:20.252182Z",
     "iopub.status.busy": "2024-11-06T13:59:20.251299Z",
     "iopub.status.idle": "2024-11-06T13:59:20.788237Z",
     "shell.execute_reply": "2024-11-06T13:59:20.786904Z"
    },
    "papermill": {
     "duration": 0.557438,
     "end_time": "2024-11-06T13:59:20.791135",
     "exception": false,
     "start_time": "2024-11-06T13:59:20.233697",
     "status": "completed"
    },
    "tags": []
   },
   "outputs": [
    {
     "data": {
      "text/plain": [
       "<Axes: xlabel='quality', ylabel='chlorides'>"
      ]
     },
     "execution_count": 9,
     "metadata": {},
     "output_type": "execute_result"
    },
    {
     "data": {
      "image/png": "[encoded data removed]",
      "text/plain": [
       "<Figure size 1000x600 with 1 Axes>"
      ]
     },
     "metadata": {},
     "output_type": "display_data"
    }
   ],
   "source": [
    "# Chloride also go down as we go higher in the quality of the wine\n",
    "fig = plt.figure(figsize=(10,6))\n",
    "sns.barplot(x=\"quality\", y=\"chlorides\", data=wine)"
   ]
  },
  {
   "cell_type": "code",
   "execution_count": 10,
   "id": "d20e5f24",
   "metadata": {
    "execution": {
     "iopub.execute_input": "2024-11-06T13:59:20.822568Z",
     "iopub.status.busy": "2024-11-06T13:59:20.822109Z",
     "iopub.status.idle": "2024-11-06T13:59:21.338185Z",
     "shell.execute_reply": "2024-11-06T13:59:21.336479Z"
    },
    "papermill": {
     "duration": 0.535379,
     "end_time": "2024-11-06T13:59:21.341522",
     "exception": false,
     "start_time": "2024-11-06T13:59:20.806143",
     "status": "completed"
    },
    "tags": []
   },
   "outputs": [
    {
     "data": {
      "text/plain": [
       "<Axes: xlabel='quality', ylabel='free sulfur dioxide'>"
      ]
     },
     "execution_count": 10,
     "metadata": {},
     "output_type": "execute_result"
    },
    {
     "data": {
      "image/png": "[encoded data removed]",
      "text/plain": [
       "<Figure size 1000x600 with 1 Axes>"
      ]
     },
     "metadata": {},
     "output_type": "display_data"
    }
   ],
   "source": [
    "fig = plt.figure(figsize=(10,6))\n",
    "sns.barplot(x=\"quality\", y=\"free sulfur dioxide\", data=wine)"
   ]
  },
  {
   "cell_type": "code",
   "execution_count": 11,
   "id": "1a920d9a",
   "metadata": {
    "execution": {
     "iopub.execute_input": "2024-11-06T13:59:21.379776Z",
     "iopub.status.busy": "2024-11-06T13:59:21.378484Z",
     "iopub.status.idle": "2024-11-06T13:59:21.893880Z",
     "shell.execute_reply": "2024-11-06T13:59:21.892330Z"
    },
    "papermill": {
     "duration": 0.535565,
     "end_time": "2024-11-06T13:59:21.896913",
     "exception": false,
     "start_time": "2024-11-06T13:59:21.361348",
     "status": "completed"
    },
    "tags": []
   },
   "outputs": [
    {
     "data": {
      "text/plain": [
       "<Axes: xlabel='quality', ylabel='sulphates'>"
      ]
     },
     "execution_count": 11,
     "metadata": {},
     "output_type": "execute_result"
    },
    {
     "data": {
      "image/png": "[encoded data removed]",
      "text/plain": [
       "<Figure size 1000x600 with 1 Axes>"
      ]
     },
     "metadata": {},
     "output_type": "display_data"
    }
   ],
   "source": [
    "# Sulphates level goes higher with the quality of wine\n",
    "fig = plt.figure(figsize=(10,6))\n",
    "sns.barplot(x=\"quality\", y=\"sulphates\", data=wine)"
   ]
  },
  {
   "cell_type": "code",
   "execution_count": 12,
   "id": "f2a1469c",
   "metadata": {
    "execution": {
     "iopub.execute_input": "2024-11-06T13:59:21.931511Z",
     "iopub.status.busy": "2024-11-06T13:59:21.931042Z",
     "iopub.status.idle": "2024-11-06T13:59:22.420687Z",
     "shell.execute_reply": "2024-11-06T13:59:22.419430Z"
    },
    "papermill": {
     "duration": 0.510145,
     "end_time": "2024-11-06T13:59:22.423430",
     "exception": false,
     "start_time": "2024-11-06T13:59:21.913285",
     "status": "completed"
    },
    "tags": []
   },
   "outputs": [
    {
     "data": {
      "text/plain": [
       "<Axes: xlabel='quality', ylabel='alcohol'>"
      ]
     },
     "execution_count": 12,
     "metadata": {},
     "output_type": "execute_result"
    },
    {
     "data": {
      "image/png": "[encoded data removed]",
      "text/plain": [
       "<Figure size 1000x600 with 1 Axes>"
      ]
     },
     "metadata": {},
     "output_type": "display_data"
    }
   ],
   "source": [
    "# Alcohol level also goes higher as the quality of wine increases\n",
    "fig = plt.figure(figsize=(10,6))\n",
    "sns.barplot(x=\"quality\", y=\"alcohol\", data=wine)"
   ]
  },
  {
   "cell_type": "markdown",
   "id": "2b14404e",
   "metadata": {
    "papermill": {
     "duration": 0.015307,
     "end_time": "2024-11-06T13:59:22.454440",
     "exception": false,
     "start_time": "2024-11-06T13:59:22.439133",
     "status": "completed"
    },
    "tags": []
   },
   "source": [
    "**Preprocessing Data for performing ML Algorithms**"
   ]
  },
  {
   "cell_type": "code",
   "execution_count": 13,
   "id": "2936104b",
   "metadata": {
    "execution": {
     "iopub.execute_input": "2024-11-06T13:59:22.487753Z",
     "iopub.status.busy": "2024-11-06T13:59:22.487269Z",
     "iopub.status.idle": "2024-11-06T13:59:22.500680Z",
     "shell.execute_reply": "2024-11-06T13:59:22.499271Z"
    },
    "papermill": {
     "duration": 0.033617,
     "end_time": "2024-11-06T13:59:22.503808",
     "exception": false,
     "start_time": "2024-11-06T13:59:22.470191",
     "status": "completed"
    },
    "tags": []
   },
   "outputs": [],
   "source": [
    "# Converting continuous numerical values into discrete categories\n",
    "bins = (2, 6.5, 8)\n",
    "group_names = [\"bad\", 'good']\n",
    "wine[\"quality\"] = pd.cut(wine[\"quality\"], bins=bins, labels=group_names) # pd.cut() is a pandas function used to segment and sort data values into bins or intervals"
   ]
  },
  {
   "cell_type": "code",
   "execution_count": 14,
   "id": "c89619cc",
   "metadata": {
    "execution": {
     "iopub.execute_input": "2024-11-06T13:59:22.537402Z",
     "iopub.status.busy": "2024-11-06T13:59:22.536791Z",
     "iopub.status.idle": "2024-11-06T13:59:22.543434Z",
     "shell.execute_reply": "2024-11-06T13:59:22.542032Z"
    },
    "papermill": {
     "duration": 0.026784,
     "end_time": "2024-11-06T13:59:22.546244",
     "exception": false,
     "start_time": "2024-11-06T13:59:22.519460",
     "status": "completed"
    },
    "tags": []
   },
   "outputs": [],
   "source": [
    "label_quality = LabelEncoder()"
   ]
  },
  {
   "cell_type": "code",
   "execution_count": 15,
   "id": "b7ce2495",
   "metadata": {
    "execution": {
     "iopub.execute_input": "2024-11-06T13:59:22.580478Z",
     "iopub.status.busy": "2024-11-06T13:59:22.579477Z",
     "iopub.status.idle": "2024-11-06T13:59:22.586939Z",
     "shell.execute_reply": "2024-11-06T13:59:22.585447Z"
    },
    "papermill": {
     "duration": 0.027382,
     "end_time": "2024-11-06T13:59:22.589665",
     "exception": false,
     "start_time": "2024-11-06T13:59:22.562283",
     "status": "completed"
    },
    "tags": []
   },
   "outputs": [],
   "source": [
    "# Label Encoding -> Bad becomes 0 and good becomes 1\n",
    "wine[\"quality\"] = label_quality.fit_transform(wine[\"quality\"])"
   ]
  },
  {
   "cell_type": "code",
   "execution_count": 16,
   "id": "a6d4fb52",
   "metadata": {
    "execution": {
     "iopub.execute_input": "2024-11-06T13:59:22.625494Z",
     "iopub.status.busy": "2024-11-06T13:59:22.624994Z",
     "iopub.status.idle": "2024-11-06T13:59:22.639065Z",
     "shell.execute_reply": "2024-11-06T13:59:22.637609Z"
    },
    "papermill": {
     "duration": 0.036059,
     "end_time": "2024-11-06T13:59:22.641962",
     "exception": false,
     "start_time": "2024-11-06T13:59:22.605903",
     "status": "completed"
    },
    "tags": []
   },
   "outputs": [
    {
     "data": {
      "text/plain": [
       "quality\n",
       "0    1382\n",
       "1     217\n",
       "Name: count, dtype: int64"
      ]
     },
     "execution_count": 16,
     "metadata": {},
     "output_type": "execute_result"
    }
   ],
   "source": [
    "wine[\"quality\"].value_counts()"
   ]
  },
  {
   "cell_type": "code",
   "execution_count": 17,
   "id": "3e507819",
   "metadata": {
    "execution": {
     "iopub.execute_input": "2024-11-06T13:59:22.677352Z",
     "iopub.status.busy": "2024-11-06T13:59:22.676409Z",
     "iopub.status.idle": "2024-11-06T13:59:22.968138Z",
     "shell.execute_reply": "2024-11-06T13:59:22.966624Z"
    },
    "papermill": {
     "duration": 0.312806,
     "end_time": "2024-11-06T13:59:22.971473",
     "exception": false,
     "start_time": "2024-11-06T13:59:22.658667",
     "status": "completed"
    },
    "tags": []
   },
   "outputs": [
    {
     "data": {
      "text/plain": [
       "<Axes: ylabel='count'>"
      ]
     },
     "execution_count": 17,
     "metadata": {},
     "output_type": "execute_result"
    },
    {
     "data": {
      "image/png": "[encoded data removed]",
      "text/plain": [
       "<Figure size 640x480 with 1 Axes>"
      ]
     },
     "metadata": {},
     "output_type": "display_data"
    }
   ],
   "source": [
    "# countplot shows the count of observations in each categorical bin using bars\n",
    "sns.countplot(wine[\"quality\"])"
   ]
  },
  {
   "cell_type": "code",
   "execution_count": 18,
   "id": "746701d5",
   "metadata": {
    "execution": {
     "iopub.execute_input": "2024-11-06T13:59:23.007219Z",
     "iopub.status.busy": "2024-11-06T13:59:23.006676Z",
     "iopub.status.idle": "2024-11-06T13:59:23.014215Z",
     "shell.execute_reply": "2024-11-06T13:59:23.012932Z"
    },
    "papermill": {
     "duration": 0.028706,
     "end_time": "2024-11-06T13:59:23.016898",
     "exception": false,
     "start_time": "2024-11-06T13:59:22.988192",
     "status": "completed"
    },
    "tags": []
   },
   "outputs": [],
   "source": [
    "X = wine.drop(\"quality\", axis=1)\n",
    "y = wine['quality']"
   ]
  },
  {
   "cell_type": "code",
   "execution_count": 19,
   "id": "1c2c82b2",
   "metadata": {
    "execution": {
     "iopub.execute_input": "2024-11-06T13:59:23.052542Z",
     "iopub.status.busy": "2024-11-06T13:59:23.052046Z",
     "iopub.status.idle": "2024-11-06T13:59:23.067103Z",
     "shell.execute_reply": "2024-11-06T13:59:23.065810Z"
    },
    "papermill": {
     "duration": 0.036583,
     "end_time": "2024-11-06T13:59:23.070179",
     "exception": false,
     "start_time": "2024-11-06T13:59:23.033596",
     "status": "completed"
    },
    "tags": []
   },
   "outputs": [],
   "source": [
    "# Train and Test splitting of data\n",
    "X_train, X_test, y_train, y_test = train_test_split(X, y, test_size=0.2, random_state=42)"
   ]
  },
  {
   "cell_type": "code",
   "execution_count": 20,
   "id": "69bb9d2f",
   "metadata": {
    "execution": {
     "iopub.execute_input": "2024-11-06T13:59:23.105519Z",
     "iopub.status.busy": "2024-11-06T13:59:23.105040Z",
     "iopub.status.idle": "2024-11-06T13:59:23.110959Z",
     "shell.execute_reply": "2024-11-06T13:59:23.109660Z"
    },
    "papermill": {
     "duration": 0.02709,
     "end_time": "2024-11-06T13:59:23.113786",
     "exception": false,
     "start_time": "2024-11-06T13:59:23.086696",
     "status": "completed"
    },
    "tags": []
   },
   "outputs": [],
   "source": [
    "# Applying Standard Scaling to get optimized result\n",
    "sc = StandardScaler()"
   ]
  },
  {
   "cell_type": "code",
   "execution_count": 21,
   "id": "13cefb53",
   "metadata": {
    "execution": {
     "iopub.execute_input": "2024-11-06T13:59:23.148509Z",
     "iopub.status.busy": "2024-11-06T13:59:23.148009Z",
     "iopub.status.idle": "2024-11-06T13:59:23.161558Z",
     "shell.execute_reply": "2024-11-06T13:59:23.160099Z"
    },
    "papermill": {
     "duration": 0.034322,
     "end_time": "2024-11-06T13:59:23.164478",
     "exception": false,
     "start_time": "2024-11-06T13:59:23.130156",
     "status": "completed"
    },
    "tags": []
   },
   "outputs": [],
   "source": [
    "X_train = sc.fit_transform(X_train)\n",
    "X_test = sc.transform(X_test)"
   ]
  },
  {
   "cell_type": "markdown",
   "id": "5eaaac55",
   "metadata": {
    "papermill": {
     "duration": 0.016262,
     "end_time": "2024-11-06T13:59:23.197202",
     "exception": false,
     "start_time": "2024-11-06T13:59:23.180940",
     "status": "completed"
    },
    "tags": []
   },
   "source": [
    "Training and Testing data is ready now to perform ml algorithm"
   ]
  },
  {
   "cell_type": "markdown",
   "id": "86975de9",
   "metadata": {
    "papermill": {
     "duration": 0.016034,
     "end_time": "2024-11-06T13:59:23.229851",
     "exception": false,
     "start_time": "2024-11-06T13:59:23.213817",
     "status": "completed"
    },
    "tags": []
   },
   "source": [
    "**Random Forest Classifier**"
   ]
  },
  {
   "cell_type": "code",
   "execution_count": 22,
   "id": "bfccf53c",
   "metadata": {
    "execution": {
     "iopub.execute_input": "2024-11-06T13:59:23.267505Z",
     "iopub.status.busy": "2024-11-06T13:59:23.267018Z",
     "iopub.status.idle": "2024-11-06T13:59:24.102472Z",
     "shell.execute_reply": "2024-11-06T13:59:24.100955Z"
    },
    "papermill": {
     "duration": 0.858715,
     "end_time": "2024-11-06T13:59:24.105517",
     "exception": false,
     "start_time": "2024-11-06T13:59:23.246802",
     "status": "completed"
    },
    "tags": []
   },
   "outputs": [],
   "source": [
    "rfc = RandomForestClassifier(n_estimators=200)\n",
    "rfc.fit(X_train, y_train)\n",
    "pred_rfc = rfc.predict(X_test)"
   ]
  },
  {
   "cell_type": "code",
   "execution_count": 23,
   "id": "320000aa",
   "metadata": {
    "execution": {
     "iopub.execute_input": "2024-11-06T13:59:24.140784Z",
     "iopub.status.busy": "2024-11-06T13:59:24.140279Z",
     "iopub.status.idle": "2024-11-06T13:59:24.157859Z",
     "shell.execute_reply": "2024-11-06T13:59:24.156235Z"
    },
    "papermill": {
     "duration": 0.038948,
     "end_time": "2024-11-06T13:59:24.160865",
     "exception": false,
     "start_time": "2024-11-06T13:59:24.121917",
     "status": "completed"
    },
    "tags": []
   },
   "outputs": [
    {
     "name": "stdout",
     "output_type": "stream",
     "text": [
      "              precision    recall  f1-score   support\n",
      "\n",
      "           0       0.92      0.97      0.94       273\n",
      "           1       0.73      0.51      0.60        47\n",
      "\n",
      "    accuracy                           0.90       320\n",
      "   macro avg       0.82      0.74      0.77       320\n",
      "weighted avg       0.89      0.90      0.89       320\n",
      "\n"
     ]
    }
   ],
   "source": [
    "#Let's see how our model performed\n",
    "print(classification_report(y_test, pred_rfc))"
   ]
  },
  {
   "cell_type": "code",
   "execution_count": 24,
   "id": "2a9b76c9",
   "metadata": {
    "execution": {
     "iopub.execute_input": "2024-11-06T13:59:24.195734Z",
     "iopub.status.busy": "2024-11-06T13:59:24.195257Z",
     "iopub.status.idle": "2024-11-06T13:59:24.204536Z",
     "shell.execute_reply": "2024-11-06T13:59:24.203134Z"
    },
    "papermill": {
     "duration": 0.030163,
     "end_time": "2024-11-06T13:59:24.207349",
     "exception": false,
     "start_time": "2024-11-06T13:59:24.177186",
     "status": "completed"
    },
    "tags": []
   },
   "outputs": [
    {
     "name": "stdout",
     "output_type": "stream",
     "text": [
      "[[264   9]\n",
      " [ 23  24]]\n"
     ]
    }
   ],
   "source": [
    "# Confusion Matrix for the Random Forest Classification\n",
    "print(confusion_matrix(y_test, pred_rfc))"
   ]
  },
  {
   "cell_type": "markdown",
   "id": "44204196",
   "metadata": {
    "papermill": {
     "duration": 0.016111,
     "end_time": "2024-11-06T13:59:24.239874",
     "exception": false,
     "start_time": "2024-11-06T13:59:24.223763",
     "status": "completed"
    },
    "tags": []
   },
   "source": [
    "**Stochastic Gradient Decent Classifier**"
   ]
  },
  {
   "cell_type": "code",
   "execution_count": 25,
   "id": "68397cc5",
   "metadata": {
    "execution": {
     "iopub.execute_input": "2024-11-06T13:59:24.276937Z",
     "iopub.status.busy": "2024-11-06T13:59:24.276444Z",
     "iopub.status.idle": "2024-11-06T13:59:24.292378Z",
     "shell.execute_reply": "2024-11-06T13:59:24.290986Z"
    },
    "papermill": {
     "duration": 0.038594,
     "end_time": "2024-11-06T13:59:24.295388",
     "exception": false,
     "start_time": "2024-11-06T13:59:24.256794",
     "status": "completed"
    },
    "tags": []
   },
   "outputs": [],
   "source": [
    "sgd = SGDClassifier(penalty=None)\n",
    "sgd.fit(X_train, y_train)\n",
    "\n",
    "pred_sgd = sgd.predict(X_test)"
   ]
  },
  {
   "cell_type": "code",
   "execution_count": 26,
   "id": "94ac7290",
   "metadata": {
    "execution": {
     "iopub.execute_input": "2024-11-06T13:59:24.331277Z",
     "iopub.status.busy": "2024-11-06T13:59:24.330388Z",
     "iopub.status.idle": "2024-11-06T13:59:24.346501Z",
     "shell.execute_reply": "2024-11-06T13:59:24.345310Z"
    },
    "papermill": {
     "duration": 0.037036,
     "end_time": "2024-11-06T13:59:24.349360",
     "exception": false,
     "start_time": "2024-11-06T13:59:24.312324",
     "status": "completed"
    },
    "tags": []
   },
   "outputs": [
    {
     "name": "stdout",
     "output_type": "stream",
     "text": [
      "              precision    recall  f1-score   support\n",
      "\n",
      "           0       0.85      1.00      0.92       273\n",
      "           1       0.00      0.00      0.00        47\n",
      "\n",
      "    accuracy                           0.85       320\n",
      "   macro avg       0.43      0.50      0.46       320\n",
      "weighted avg       0.73      0.85      0.78       320\n",
      "\n"
     ]
    }
   ],
   "source": [
    "print(classification_report(y_test, pred_sgd))"
   ]
  },
  {
   "cell_type": "code",
   "execution_count": 27,
   "id": "b8cda7ca",
   "metadata": {
    "execution": {
     "iopub.execute_input": "2024-11-06T13:59:24.385092Z",
     "iopub.status.busy": "2024-11-06T13:59:24.384622Z",
     "iopub.status.idle": "2024-11-06T13:59:24.395253Z",
     "shell.execute_reply": "2024-11-06T13:59:24.393695Z"
    },
    "papermill": {
     "duration": 0.03203,
     "end_time": "2024-11-06T13:59:24.398404",
     "exception": false,
     "start_time": "2024-11-06T13:59:24.366374",
     "status": "completed"
    },
    "tags": []
   },
   "outputs": [
    {
     "name": "stdout",
     "output_type": "stream",
     "text": [
      "[[272   1]\n",
      " [ 47   0]]\n"
     ]
    }
   ],
   "source": [
    "print(confusion_matrix(y_test, pred_sgd))"
   ]
  },
  {
   "cell_type": "markdown",
   "id": "9bc0d013",
   "metadata": {
    "papermill": {
     "duration": 0.016341,
     "end_time": "2024-11-06T13:59:24.431566",
     "exception": false,
     "start_time": "2024-11-06T13:59:24.415225",
     "status": "completed"
    },
    "tags": []
   },
   "source": [
    "**Support Vector Classifier**"
   ]
  },
  {
   "cell_type": "code",
   "execution_count": 28,
   "id": "ddb4ee1b",
   "metadata": {
    "execution": {
     "iopub.execute_input": "2024-11-06T13:59:24.467031Z",
     "iopub.status.busy": "2024-11-06T13:59:24.466557Z",
     "iopub.status.idle": "2024-11-06T13:59:24.510816Z",
     "shell.execute_reply": "2024-11-06T13:59:24.509486Z"
    },
    "papermill": {
     "duration": 0.065352,
     "end_time": "2024-11-06T13:59:24.513656",
     "exception": false,
     "start_time": "2024-11-06T13:59:24.448304",
     "status": "completed"
    },
    "tags": []
   },
   "outputs": [],
   "source": [
    "svc = SVC()\n",
    "svc.fit(X_train, y_train)\n",
    "\n",
    "pred_svc = svc.predict(X_test)"
   ]
  },
  {
   "cell_type": "code",
   "execution_count": 29,
   "id": "f647f368",
   "metadata": {
    "execution": {
     "iopub.execute_input": "2024-11-06T13:59:24.548974Z",
     "iopub.status.busy": "2024-11-06T13:59:24.548475Z",
     "iopub.status.idle": "2024-11-06T13:59:24.564538Z",
     "shell.execute_reply": "2024-11-06T13:59:24.563173Z"
    },
    "papermill": {
     "duration": 0.036951,
     "end_time": "2024-11-06T13:59:24.567251",
     "exception": false,
     "start_time": "2024-11-06T13:59:24.530300",
     "status": "completed"
    },
    "tags": []
   },
   "outputs": [
    {
     "name": "stdout",
     "output_type": "stream",
     "text": [
      "              precision    recall  f1-score   support\n",
      "\n",
      "           0       0.88      0.98      0.93       273\n",
      "           1       0.71      0.26      0.37        47\n",
      "\n",
      "    accuracy                           0.88       320\n",
      "   macro avg       0.80      0.62      0.65       320\n",
      "weighted avg       0.86      0.88      0.85       320\n",
      "\n"
     ]
    }
   ],
   "source": [
    "print(classification_report(y_test, pred_svc))"
   ]
  },
  {
   "cell_type": "markdown",
   "id": "e7f0a57a",
   "metadata": {
    "papermill": {
     "duration": 0.016706,
     "end_time": "2024-11-06T13:59:24.601451",
     "exception": false,
     "start_time": "2024-11-06T13:59:24.584745",
     "status": "completed"
    },
    "tags": []
   },
   "source": [
    "Let's try to increase the "
   ]
  }
 ],
 "metadata": {
  "kaggle": {
   "accelerator": "none",
   "dataSources": [
    {
     "datasetId": 4458,
     "sourceId": 8204,
     "sourceType": "datasetVersion"
    }
   ],
   "dockerImageVersionId": 30786,
   "isGpuEnabled": false,
   "isInternetEnabled": false,
   "language": "python",
   "sourceType": "notebook"
  },
  "kernelspec": {
   "display_name": "Python 3",
   "language": "python",
   "name": "python3"
  },
  "language_info": {
   "codemirror_mode": {
    "name": "ipython",
    "version": 3
   },
   "file_extension": ".py",
   "mimetype": "text/x-python",
   "name": "python",
   "nbconvert_exporter": "python",
   "pygments_lexer": "ipython3",
   "version": "3.10.14"
  },
  "papermill": {
   "default_parameters": {},
   "duration": 15.835743,
   "end_time": "2024-11-06T13:59:25.442106",
   "environment_variables": {},
   "exception": null,
   "input_path": "__notebook__.ipynb",
   "output_path": "__notebook__.ipynb",
   "parameters": {},
   "start_time": "2024-11-06T13:59:09.606363",
   "version": "2.6.0"
  }
 },
 "nbformat": 4,
 "nbformat_minor": 5
}
