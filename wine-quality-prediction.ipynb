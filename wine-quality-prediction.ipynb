{
 "cells": [
  {
   "cell_type": "markdown",
   "id": "a4ac868a",
   "metadata": {
    "papermill": {
     "duration": 0.009389,
     "end_time": "2024-11-07T13:38:56.122705",
     "exception": false,
     "start_time": "2024-11-07T13:38:56.113316",
     "status": "completed"
    },
    "tags": []
   },
   "source": [
    "Exploration on the data using matplotlib and seaborn\n",
    "\n",
    "Different Classifier models to predict the quality of wine -> Random Forest Classifier, Stochastic Gradient Descent Classifier, Support Vector Classifier\n",
    "\n",
    "Cross Validaiton Evaluation technique to optimize model performance"
   ]
  },
  {
   "cell_type": "code",
   "execution_count": 1,
   "id": "8a286e5c",
   "metadata": {
    "execution": {
     "iopub.execute_input": "2024-11-07T13:38:56.142022Z",
     "iopub.status.busy": "2024-11-07T13:38:56.141570Z",
     "iopub.status.idle": "2024-11-07T13:38:59.180243Z",
     "shell.execute_reply": "2024-11-07T13:38:59.179174Z"
    },
    "papermill": {
     "duration": 3.051165,
     "end_time": "2024-11-07T13:38:59.182802",
     "exception": false,
     "start_time": "2024-11-07T13:38:56.131637",
     "status": "completed"
    },
    "tags": []
   },
   "outputs": [],
   "source": [
    "import pandas as pd\n",
    "import seaborn as sns\n",
    "import matplotlib.pyplot as plt\n",
    "\n",
    "from sklearn.ensemble import RandomForestClassifier\n",
    "from sklearn.svm import SVC\n",
    "from sklearn.linear_model import SGDClassifier\n",
    "from sklearn.metrics import confusion_matrix, classification_report\n",
    "from sklearn.preprocessing import StandardScaler, LabelEncoder\n",
    "from sklearn.model_selection import train_test_split, GridSearchCV,cross_val_score\n",
    "%matplotlib inline"
   ]
  },
  {
   "cell_type": "code",
   "execution_count": 2,
   "id": "c0d0d5cf",
   "metadata": {
    "execution": {
     "iopub.execute_input": "2024-11-07T13:38:59.202564Z",
     "iopub.status.busy": "2024-11-07T13:38:59.202007Z",
     "iopub.status.idle": "2024-11-07T13:38:59.231798Z",
     "shell.execute_reply": "2024-11-07T13:38:59.230617Z"
    },
    "papermill": {
     "duration": 0.042093,
     "end_time": "2024-11-07T13:38:59.234458",
     "exception": false,
     "start_time": "2024-11-07T13:38:59.192365",
     "status": "completed"
    },
    "tags": []
   },
   "outputs": [],
   "source": [
    "#Loading the dataset\n",
    "wine = pd.read_csv('/kaggle/input/red-wine-quality-cortez-et-al-2009/winequality-red.csv')"
   ]
  },
  {
   "cell_type": "code",
   "execution_count": 3,
   "id": "63f423c1",
   "metadata": {
    "execution": {
     "iopub.execute_input": "2024-11-07T13:38:59.253743Z",
     "iopub.status.busy": "2024-11-07T13:38:59.252995Z",
     "iopub.status.idle": "2024-11-07T13:38:59.281535Z",
     "shell.execute_reply": "2024-11-07T13:38:59.280320Z"
    },
    "papermill": {
     "duration": 0.040915,
     "end_time": "2024-11-07T13:38:59.284156",
     "exception": false,
     "start_time": "2024-11-07T13:38:59.243241",
     "status": "completed"
    },
    "tags": []
   },
   "outputs": [
    {
     "data": {
      "text/html": [
       "<div>\n",
       "<style scoped>\n",
       "    .dataframe tbody tr th:only-of-type {\n",
       "        vertical-align: middle;\n",
       "    }\n",
       "\n",
       "    .dataframe tbody tr th {\n",
       "        vertical-align: top;\n",
       "    }\n",
       "\n",
       "    .dataframe thead th {\n",
       "        text-align: right;\n",
       "    }\n",
       "</style>\n",
       "<table border=\"1\" class=\"dataframe\">\n",
       "  <thead>\n",
       "    <tr style=\"text-align: right;\">\n",
       "      <th></th>\n",
       "      <th>fixed acidity</th>\n",
       "      <th>volatile acidity</th>\n",
       "      <th>citric acid</th>\n",
       "      <th>residual sugar</th>\n",
       "      <th>chlorides</th>\n",
       "      <th>free sulfur dioxide</th>\n",
       "      <th>total sulfur dioxide</th>\n",
       "      <th>density</th>\n",
       "      <th>pH</th>\n",
       "      <th>sulphates</th>\n",
       "      <th>alcohol</th>\n",
       "      <th>quality</th>\n",
       "    </tr>\n",
       "  </thead>\n",
       "  <tbody>\n",
       "    <tr>\n",
       "      <th>0</th>\n",
       "      <td>7.4</td>\n",
       "      <td>0.70</td>\n",
       "      <td>0.00</td>\n",
       "      <td>1.9</td>\n",
       "      <td>0.076</td>\n",
       "      <td>11.0</td>\n",
       "      <td>34.0</td>\n",
       "      <td>0.9978</td>\n",
       "      <td>3.51</td>\n",
       "      <td>0.56</td>\n",
       "      <td>9.4</td>\n",
       "      <td>5</td>\n",
       "    </tr>\n",
       "    <tr>\n",
       "      <th>1</th>\n",
       "      <td>7.8</td>\n",
       "      <td>0.88</td>\n",
       "      <td>0.00</td>\n",
       "      <td>2.6</td>\n",
       "      <td>0.098</td>\n",
       "      <td>25.0</td>\n",
       "      <td>67.0</td>\n",
       "      <td>0.9968</td>\n",
       "      <td>3.20</td>\n",
       "      <td>0.68</td>\n",
       "      <td>9.8</td>\n",
       "      <td>5</td>\n",
       "    </tr>\n",
       "    <tr>\n",
       "      <th>2</th>\n",
       "      <td>7.8</td>\n",
       "      <td>0.76</td>\n",
       "      <td>0.04</td>\n",
       "      <td>2.3</td>\n",
       "      <td>0.092</td>\n",
       "      <td>15.0</td>\n",
       "      <td>54.0</td>\n",
       "      <td>0.9970</td>\n",
       "      <td>3.26</td>\n",
       "      <td>0.65</td>\n",
       "      <td>9.8</td>\n",
       "      <td>5</td>\n",
       "    </tr>\n",
       "    <tr>\n",
       "      <th>3</th>\n",
       "      <td>11.2</td>\n",
       "      <td>0.28</td>\n",
       "      <td>0.56</td>\n",
       "      <td>1.9</td>\n",
       "      <td>0.075</td>\n",
       "      <td>17.0</td>\n",
       "      <td>60.0</td>\n",
       "      <td>0.9980</td>\n",
       "      <td>3.16</td>\n",
       "      <td>0.58</td>\n",
       "      <td>9.8</td>\n",
       "      <td>6</td>\n",
       "    </tr>\n",
       "    <tr>\n",
       "      <th>4</th>\n",
       "      <td>7.4</td>\n",
       "      <td>0.70</td>\n",
       "      <td>0.00</td>\n",
       "      <td>1.9</td>\n",
       "      <td>0.076</td>\n",
       "      <td>11.0</td>\n",
       "      <td>34.0</td>\n",
       "      <td>0.9978</td>\n",
       "      <td>3.51</td>\n",
       "      <td>0.56</td>\n",
       "      <td>9.4</td>\n",
       "      <td>5</td>\n",
       "    </tr>\n",
       "  </tbody>\n",
       "</table>\n",
       "</div>"
      ],
      "text/plain": [
       "   fixed acidity  volatile acidity  citric acid  residual sugar  chlorides  \\\n",
       "0            7.4              0.70         0.00             1.9      0.076   \n",
       "1            7.8              0.88         0.00             2.6      0.098   \n",
       "2            7.8              0.76         0.04             2.3      0.092   \n",
       "3           11.2              0.28         0.56             1.9      0.075   \n",
       "4            7.4              0.70         0.00             1.9      0.076   \n",
       "\n",
       "   free sulfur dioxide  total sulfur dioxide  density    pH  sulphates  \\\n",
       "0                 11.0                  34.0   0.9978  3.51       0.56   \n",
       "1                 25.0                  67.0   0.9968  3.20       0.68   \n",
       "2                 15.0                  54.0   0.9970  3.26       0.65   \n",
       "3                 17.0                  60.0   0.9980  3.16       0.58   \n",
       "4                 11.0                  34.0   0.9978  3.51       0.56   \n",
       "\n",
       "   alcohol  quality  \n",
       "0      9.4        5  \n",
       "1      9.8        5  \n",
       "2      9.8        5  \n",
       "3      9.8        6  \n",
       "4      9.4        5  "
      ]
     },
     "execution_count": 3,
     "metadata": {},
     "output_type": "execute_result"
    }
   ],
   "source": [
    "wine.head()"
   ]
  },
  {
   "cell_type": "code",
   "execution_count": 4,
   "id": "599d90c0",
   "metadata": {
    "execution": {
     "iopub.execute_input": "2024-11-07T13:38:59.303976Z",
     "iopub.status.busy": "2024-11-07T13:38:59.303566Z",
     "iopub.status.idle": "2024-11-07T13:38:59.332495Z",
     "shell.execute_reply": "2024-11-07T13:38:59.331297Z"
    },
    "papermill": {
     "duration": 0.041632,
     "end_time": "2024-11-07T13:38:59.335009",
     "exception": false,
     "start_time": "2024-11-07T13:38:59.293377",
     "status": "completed"
    },
    "tags": []
   },
   "outputs": [
    {
     "name": "stdout",
     "output_type": "stream",
     "text": [
      "<class 'pandas.core.frame.DataFrame'>\n",
      "RangeIndex: 1599 entries, 0 to 1598\n",
      "Data columns (total 12 columns):\n",
      " #   Column                Non-Null Count  Dtype  \n",
      "---  ------                --------------  -----  \n",
      " 0   fixed acidity         1599 non-null   float64\n",
      " 1   volatile acidity      1599 non-null   float64\n",
      " 2   citric acid           1599 non-null   float64\n",
      " 3   residual sugar        1599 non-null   float64\n",
      " 4   chlorides             1599 non-null   float64\n",
      " 5   free sulfur dioxide   1599 non-null   float64\n",
      " 6   total sulfur dioxide  1599 non-null   float64\n",
      " 7   density               1599 non-null   float64\n",
      " 8   pH                    1599 non-null   float64\n",
      " 9   sulphates             1599 non-null   float64\n",
      " 10  alcohol               1599 non-null   float64\n",
      " 11  quality               1599 non-null   int64  \n",
      "dtypes: float64(11), int64(1)\n",
      "memory usage: 150.0 KB\n"
     ]
    }
   ],
   "source": [
    "#Information about the data columns\n",
    "wine.info()"
   ]
  },
  {
   "cell_type": "code",
   "execution_count": 5,
   "id": "f2fcb14d",
   "metadata": {
    "execution": {
     "iopub.execute_input": "2024-11-07T13:38:59.355035Z",
     "iopub.status.busy": "2024-11-07T13:38:59.354578Z",
     "iopub.status.idle": "2024-11-07T13:38:59.770621Z",
     "shell.execute_reply": "2024-11-07T13:38:59.769476Z"
    },
    "papermill": {
     "duration": 0.428802,
     "end_time": "2024-11-07T13:38:59.772946",
     "exception": false,
     "start_time": "2024-11-07T13:38:59.344144",
     "status": "completed"
    },
    "tags": []
   },
   "outputs": [
    {
     "data": {
      "text/plain": [
       "<Axes: xlabel='quality', ylabel='fixed acidity'>"
      ]
     },
     "execution_count": 5,
     "metadata": {},
     "output_type": "execute_result"
    },
    {
     "data": {
      "image/png": "[encoded data removed]",
      "text/plain": [
       "<Figure size 1000x600 with 1 Axes>"
      ]
     },
     "metadata": {},
     "output_type": "display_data"
    }
   ],
   "source": [
    "# We see that fixed acidity doesn't give any specification to classify the quality\n",
    "fig = plt.figure(figsize=(10,6))\n",
    "sns.barplot(x=\"quality\", y='fixed acidity', data=wine)"
   ]
  },
  {
   "cell_type": "code",
   "execution_count": 6,
   "id": "7122aa2b",
   "metadata": {
    "execution": {
     "iopub.execute_input": "2024-11-07T13:38:59.793310Z",
     "iopub.status.busy": "2024-11-07T13:38:59.792817Z",
     "iopub.status.idle": "2024-11-07T13:39:00.171211Z",
     "shell.execute_reply": "2024-11-07T13:39:00.169811Z"
    },
    "papermill": {
     "duration": 0.391335,
     "end_time": "2024-11-07T13:39:00.173536",
     "exception": false,
     "start_time": "2024-11-07T13:38:59.782201",
     "status": "completed"
    },
    "tags": []
   },
   "outputs": [
    {
     "data": {
      "text/plain": [
       "<Axes: xlabel='quality', ylabel='volatile acidity'>"
      ]
     },
     "execution_count": 6,
     "metadata": {},
     "output_type": "execute_result"
    },
    {
     "data": {
      "image/png": "[encoded data removed]",
      "text/plain": [
       "<Figure size 1000x600 with 1 Axes>"
      ]
     },
     "metadata": {},
     "output_type": "display_data"
    }
   ],
   "source": [
    "# We see that it's quite a downing trend in the volatile acidity as we go higher the quality\n",
    "fig = plt.figure(figsize=(10,6))\n",
    "sns.barplot(x='quality', y=\"volatile acidity\", data=wine)"
   ]
  },
  {
   "cell_type": "code",
   "execution_count": 7,
   "id": "6ad7a420",
   "metadata": {
    "execution": {
     "iopub.execute_input": "2024-11-07T13:39:00.194785Z",
     "iopub.status.busy": "2024-11-07T13:39:00.194362Z",
     "iopub.status.idle": "2024-11-07T13:39:00.582207Z",
     "shell.execute_reply": "2024-11-07T13:39:00.581063Z"
    },
    "papermill": {
     "duration": 0.401077,
     "end_time": "2024-11-07T13:39:00.584401",
     "exception": false,
     "start_time": "2024-11-07T13:39:00.183324",
     "status": "completed"
    },
    "tags": []
   },
   "outputs": [
    {
     "data": {
      "text/plain": [
       "<Axes: xlabel='quality', ylabel='citric acid'>"
      ]
     },
     "execution_count": 7,
     "metadata": {},
     "output_type": "execute_result"
    },
    {
     "data": {
      "image/png": "[encoded data removed]",
      "text/plain": [
       "<Figure size 1000x600 with 1 Axes>"
      ]
     },
     "metadata": {},
     "output_type": "display_data"
    }
   ],
   "source": [
    "# Citric acid go higher as we go higher in the quality of wine\n",
    "fig = plt.figure(figsize=(10,6))\n",
    "sns.barplot(x=\"quality\", y=\"citric acid\", data=wine)"
   ]
  },
  {
   "cell_type": "code",
   "execution_count": 8,
   "id": "15a454e4",
   "metadata": {
    "execution": {
     "iopub.execute_input": "2024-11-07T13:39:00.606830Z",
     "iopub.status.busy": "2024-11-07T13:39:00.606402Z",
     "iopub.status.idle": "2024-11-07T13:39:01.006170Z",
     "shell.execute_reply": "2024-11-07T13:39:01.004867Z"
    },
    "papermill": {
     "duration": 0.413884,
     "end_time": "2024-11-07T13:39:01.008583",
     "exception": false,
     "start_time": "2024-11-07T13:39:00.594699",
     "status": "completed"
    },
    "tags": []
   },
   "outputs": [
    {
     "data": {
      "text/plain": [
       "<Axes: xlabel='quality', ylabel='residual sugar'>"
      ]
     },
     "execution_count": 8,
     "metadata": {},
     "output_type": "execute_result"
    },
    {
     "data": {
      "image/png": "[encoded data removed]",
      "text/plain": [
       "<Figure size 1000x600 with 1 Axes>"
      ]
     },
     "metadata": {},
     "output_type": "display_data"
    }
   ],
   "source": [
    "fig = plt.figure(figsize=(10,6))\n",
    "sns.barplot(x='quality', y='residual sugar', data=wine)"
   ]
  },
  {
   "cell_type": "code",
   "execution_count": 9,
   "id": "1a9a7154",
   "metadata": {
    "execution": {
     "iopub.execute_input": "2024-11-07T13:39:01.031070Z",
     "iopub.status.busy": "2024-11-07T13:39:01.030572Z",
     "iopub.status.idle": "2024-11-07T13:39:01.441393Z",
     "shell.execute_reply": "2024-11-07T13:39:01.440012Z"
    },
    "papermill": {
     "duration": 0.425146,
     "end_time": "2024-11-07T13:39:01.444098",
     "exception": false,
     "start_time": "2024-11-07T13:39:01.018952",
     "status": "completed"
    },
    "tags": []
   },
   "outputs": [
    {
     "data": {
      "text/plain": [
       "<Axes: xlabel='quality', ylabel='chlorides'>"
      ]
     },
     "execution_count": 9,
     "metadata": {},
     "output_type": "execute_result"
    },
    {
     "data": {
      "image/png": "[encoded data removed]",
      "text/plain": [
       "<Figure size 1000x600 with 1 Axes>"
      ]
     },
     "metadata": {},
     "output_type": "display_data"
    }
   ],
   "source": [
    "# Chloride also go down as we go higher in the quality of the wine\n",
    "fig = plt.figure(figsize=(10,6))\n",
    "sns.barplot(x=\"quality\", y=\"chlorides\", data=wine)"
   ]
  },
  {
   "cell_type": "code",
   "execution_count": 10,
   "id": "24222c98",
   "metadata": {
    "execution": {
     "iopub.execute_input": "2024-11-07T13:39:01.468568Z",
     "iopub.status.busy": "2024-11-07T13:39:01.468161Z",
     "iopub.status.idle": "2024-11-07T13:39:01.860428Z",
     "shell.execute_reply": "2024-11-07T13:39:01.859330Z"
    },
    "papermill": {
     "duration": 0.407429,
     "end_time": "2024-11-07T13:39:01.862903",
     "exception": false,
     "start_time": "2024-11-07T13:39:01.455474",
     "status": "completed"
    },
    "tags": []
   },
   "outputs": [
    {
     "data": {
      "text/plain": [
       "<Axes: xlabel='quality', ylabel='free sulfur dioxide'>"
      ]
     },
     "execution_count": 10,
     "metadata": {},
     "output_type": "execute_result"
    },
    {
     "data": {
      "image/png": "[encoded data removed]",
      "text/plain": [
       "<Figure size 1000x600 with 1 Axes>"
      ]
     },
     "metadata": {},
     "output_type": "display_data"
    }
   ],
   "source": [
    "fig = plt.figure(figsize=(10,6))\n",
    "sns.barplot(x=\"quality\", y=\"free sulfur dioxide\", data=wine)"
   ]
  },
  {
   "cell_type": "code",
   "execution_count": 11,
   "id": "36cc2f53",
   "metadata": {
    "execution": {
     "iopub.execute_input": "2024-11-07T13:39:01.887301Z",
     "iopub.status.busy": "2024-11-07T13:39:01.886880Z",
     "iopub.status.idle": "2024-11-07T13:39:02.280385Z",
     "shell.execute_reply": "2024-11-07T13:39:02.279365Z"
    },
    "papermill": {
     "duration": 0.408219,
     "end_time": "2024-11-07T13:39:02.282539",
     "exception": false,
     "start_time": "2024-11-07T13:39:01.874320",
     "status": "completed"
    },
    "tags": []
   },
   "outputs": [
    {
     "data": {
      "text/plain": [
       "<Axes: xlabel='quality', ylabel='sulphates'>"
      ]
     },
     "execution_count": 11,
     "metadata": {},
     "output_type": "execute_result"
    },
    {
     "data": {
      "image/png": "[encoded data removed]",
      "text/plain": [
       "<Figure size 1000x600 with 1 Axes>"
      ]
     },
     "metadata": {},
     "output_type": "display_data"
    }
   ],
   "source": [
    "# Sulphates level goes higher with the quality of wine\n",
    "fig = plt.figure(figsize=(10,6))\n",
    "sns.barplot(x=\"quality\", y=\"sulphates\", data=wine)"
   ]
  },
  {
   "cell_type": "code",
   "execution_count": 12,
   "id": "11350b77",
   "metadata": {
    "execution": {
     "iopub.execute_input": "2024-11-07T13:39:02.307702Z",
     "iopub.status.busy": "2024-11-07T13:39:02.307293Z",
     "iopub.status.idle": "2024-11-07T13:39:02.683353Z",
     "shell.execute_reply": "2024-11-07T13:39:02.681949Z"
    },
    "papermill": {
     "duration": 0.391835,
     "end_time": "2024-11-07T13:39:02.686189",
     "exception": false,
     "start_time": "2024-11-07T13:39:02.294354",
     "status": "completed"
    },
    "tags": []
   },
   "outputs": [
    {
     "data": {
      "text/plain": [
       "<Axes: xlabel='quality', ylabel='alcohol'>"
      ]
     },
     "execution_count": 12,
     "metadata": {},
     "output_type": "execute_result"
    },
    {
     "data": {
      "image/png": "[encoded data removed]",
      "text/plain": [
       "<Figure size 1000x600 with 1 Axes>"
      ]
     },
     "metadata": {},
     "output_type": "display_data"
    }
   ],
   "source": [
    "# Alcohol level also goes higher as the quality of wine increases\n",
    "fig = plt.figure(figsize=(10,6))\n",
    "sns.barplot(x=\"quality\", y=\"alcohol\", data=wine)"
   ]
  },
  {
   "cell_type": "markdown",
   "id": "54b8787c",
   "metadata": {
    "papermill": {
     "duration": 0.011627,
     "end_time": "2024-11-07T13:39:02.709995",
     "exception": false,
     "start_time": "2024-11-07T13:39:02.698368",
     "status": "completed"
    },
    "tags": []
   },
   "source": [
    "**Preprocessing Data for performing ML Algorithms**"
   ]
  },
  {
   "cell_type": "code",
   "execution_count": 13,
   "id": "a897af04",
   "metadata": {
    "execution": {
     "iopub.execute_input": "2024-11-07T13:39:02.735931Z",
     "iopub.status.busy": "2024-11-07T13:39:02.735520Z",
     "iopub.status.idle": "2024-11-07T13:39:02.746370Z",
     "shell.execute_reply": "2024-11-07T13:39:02.745339Z"
    },
    "papermill": {
     "duration": 0.026662,
     "end_time": "2024-11-07T13:39:02.748816",
     "exception": false,
     "start_time": "2024-11-07T13:39:02.722154",
     "status": "completed"
    },
    "tags": []
   },
   "outputs": [],
   "source": [
    "# Converting continuous numerical values into discrete categories\n",
    "bins = (2, 6.5, 8)\n",
    "group_names = [\"bad\", 'good']\n",
    "wine[\"quality\"] = pd.cut(wine[\"quality\"], bins=bins, labels=group_names) # pd.cut() is a pandas function used to segment and sort data values into bins or intervals"
   ]
  },
  {
   "cell_type": "code",
   "execution_count": 14,
   "id": "8a4a586e",
   "metadata": {
    "execution": {
     "iopub.execute_input": "2024-11-07T13:39:02.775011Z",
     "iopub.status.busy": "2024-11-07T13:39:02.774550Z",
     "iopub.status.idle": "2024-11-07T13:39:02.779319Z",
     "shell.execute_reply": "2024-11-07T13:39:02.778304Z"
    },
    "papermill": {
     "duration": 0.020518,
     "end_time": "2024-11-07T13:39:02.781311",
     "exception": false,
     "start_time": "2024-11-07T13:39:02.760793",
     "status": "completed"
    },
    "tags": []
   },
   "outputs": [],
   "source": [
    "label_quality = LabelEncoder()"
   ]
  },
  {
   "cell_type": "code",
   "execution_count": 15,
   "id": "d07f64e5",
   "metadata": {
    "execution": {
     "iopub.execute_input": "2024-11-07T13:39:02.807249Z",
     "iopub.status.busy": "2024-11-07T13:39:02.806838Z",
     "iopub.status.idle": "2024-11-07T13:39:02.813342Z",
     "shell.execute_reply": "2024-11-07T13:39:02.812190Z"
    },
    "papermill": {
     "duration": 0.022634,
     "end_time": "2024-11-07T13:39:02.816062",
     "exception": false,
     "start_time": "2024-11-07T13:39:02.793428",
     "status": "completed"
    },
    "tags": []
   },
   "outputs": [],
   "source": [
    "# Label Encoding -> Bad becomes 0 and good becomes 1\n",
    "wine[\"quality\"] = label_quality.fit_transform(wine[\"quality\"])"
   ]
  },
  {
   "cell_type": "code",
   "execution_count": 16,
   "id": "ac5278a6",
   "metadata": {
    "execution": {
     "iopub.execute_input": "2024-11-07T13:39:02.843593Z",
     "iopub.status.busy": "2024-11-07T13:39:02.842579Z",
     "iopub.status.idle": "2024-11-07T13:39:02.852982Z",
     "shell.execute_reply": "2024-11-07T13:39:02.851920Z"
    },
    "papermill": {
     "duration": 0.02677,
     "end_time": "2024-11-07T13:39:02.855244",
     "exception": false,
     "start_time": "2024-11-07T13:39:02.828474",
     "status": "completed"
    },
    "tags": []
   },
   "outputs": [
    {
     "data": {
      "text/plain": [
       "quality\n",
       "0    1382\n",
       "1     217\n",
       "Name: count, dtype: int64"
      ]
     },
     "execution_count": 16,
     "metadata": {},
     "output_type": "execute_result"
    }
   ],
   "source": [
    "wine[\"quality\"].value_counts()"
   ]
  },
  {
   "cell_type": "code",
   "execution_count": 17,
   "id": "13f2c78d",
   "metadata": {
    "execution": {
     "iopub.execute_input": "2024-11-07T13:39:02.882960Z",
     "iopub.status.busy": "2024-11-07T13:39:02.882052Z",
     "iopub.status.idle": "2024-11-07T13:39:03.186676Z",
     "shell.execute_reply": "2024-11-07T13:39:03.184180Z"
    },
    "papermill": {
     "duration": 0.32234,
     "end_time": "2024-11-07T13:39:03.190265",
     "exception": false,
     "start_time": "2024-11-07T13:39:02.867925",
     "status": "completed"
    },
    "tags": []
   },
   "outputs": [
    {
     "data": {
      "text/plain": [
       "<Axes: ylabel='count'>"
      ]
     },
     "execution_count": 17,
     "metadata": {},
     "output_type": "execute_result"
    },
    {
     "data": {
      "image/png": "[encoded data removed]",
      "text/plain": [
       "<Figure size 640x480 with 1 Axes>"
      ]
     },
     "metadata": {},
     "output_type": "display_data"
    }
   ],
   "source": [
    "# countplot shows the count of observations in each categorical bin using bars\n",
    "sns.countplot(wine[\"quality\"])"
   ]
  },
  {
   "cell_type": "code",
   "execution_count": 18,
   "id": "8127f3dd",
   "metadata": {
    "execution": {
     "iopub.execute_input": "2024-11-07T13:39:03.227977Z",
     "iopub.status.busy": "2024-11-07T13:39:03.227427Z",
     "iopub.status.idle": "2024-11-07T13:39:03.234581Z",
     "shell.execute_reply": "2024-11-07T13:39:03.233389Z"
    },
    "papermill": {
     "duration": 0.027588,
     "end_time": "2024-11-07T13:39:03.237457",
     "exception": false,
     "start_time": "2024-11-07T13:39:03.209869",
     "status": "completed"
    },
    "tags": []
   },
   "outputs": [],
   "source": [
    "X = wine.drop(\"quality\", axis=1)\n",
    "y = wine['quality']"
   ]
  },
  {
   "cell_type": "code",
   "execution_count": 19,
   "id": "2f7bb704",
   "metadata": {
    "execution": {
     "iopub.execute_input": "2024-11-07T13:39:03.269055Z",
     "iopub.status.busy": "2024-11-07T13:39:03.268633Z",
     "iopub.status.idle": "2024-11-07T13:39:03.277095Z",
     "shell.execute_reply": "2024-11-07T13:39:03.276095Z"
    },
    "papermill": {
     "duration": 0.024891,
     "end_time": "2024-11-07T13:39:03.279343",
     "exception": false,
     "start_time": "2024-11-07T13:39:03.254452",
     "status": "completed"
    },
    "tags": []
   },
   "outputs": [],
   "source": [
    "# Train and Test splitting of data\n",
    "X_train, X_test, y_train, y_test = train_test_split(X, y, test_size=0.2, random_state=42)"
   ]
  },
  {
   "cell_type": "code",
   "execution_count": 20,
   "id": "a82ad6e1",
   "metadata": {
    "execution": {
     "iopub.execute_input": "2024-11-07T13:39:03.305893Z",
     "iopub.status.busy": "2024-11-07T13:39:03.305503Z",
     "iopub.status.idle": "2024-11-07T13:39:03.310457Z",
     "shell.execute_reply": "2024-11-07T13:39:03.309440Z"
    },
    "papermill": {
     "duration": 0.020979,
     "end_time": "2024-11-07T13:39:03.312835",
     "exception": false,
     "start_time": "2024-11-07T13:39:03.291856",
     "status": "completed"
    },
    "tags": []
   },
   "outputs": [],
   "source": [
    "# Applying Standard Scaling to get optimized result\n",
    "sc = StandardScaler()"
   ]
  },
  {
   "cell_type": "code",
   "execution_count": 21,
   "id": "8fbd8a68",
   "metadata": {
    "execution": {
     "iopub.execute_input": "2024-11-07T13:39:03.339635Z",
     "iopub.status.busy": "2024-11-07T13:39:03.339221Z",
     "iopub.status.idle": "2024-11-07T13:39:03.350407Z",
     "shell.execute_reply": "2024-11-07T13:39:03.349316Z"
    },
    "papermill": {
     "duration": 0.027626,
     "end_time": "2024-11-07T13:39:03.353048",
     "exception": false,
     "start_time": "2024-11-07T13:39:03.325422",
     "status": "completed"
    },
    "tags": []
   },
   "outputs": [],
   "source": [
    "X_train = sc.fit_transform(X_train)\n",
    "X_test = sc.transform(X_test)"
   ]
  },
  {
   "cell_type": "markdown",
   "id": "a8c95d03",
   "metadata": {
    "papermill": {
     "duration": 0.012363,
     "end_time": "2024-11-07T13:39:03.378480",
     "exception": false,
     "start_time": "2024-11-07T13:39:03.366117",
     "status": "completed"
    },
    "tags": []
   },
   "source": [
    "Training and Testing data is ready now to perform ml algorithm"
   ]
  },
  {
   "cell_type": "markdown",
   "id": "f798e1bc",
   "metadata": {
    "papermill": {
     "duration": 0.012229,
     "end_time": "2024-11-07T13:39:03.403754",
     "exception": false,
     "start_time": "2024-11-07T13:39:03.391525",
     "status": "completed"
    },
    "tags": []
   },
   "source": [
    "**Random Forest Classifier**"
   ]
  },
  {
   "cell_type": "code",
   "execution_count": 22,
   "id": "9adf9efa",
   "metadata": {
    "execution": {
     "iopub.execute_input": "2024-11-07T13:39:03.431241Z",
     "iopub.status.busy": "2024-11-07T13:39:03.430797Z",
     "iopub.status.idle": "2024-11-07T13:39:04.121618Z",
     "shell.execute_reply": "2024-11-07T13:39:04.120307Z"
    },
    "papermill": {
     "duration": 0.708583,
     "end_time": "2024-11-07T13:39:04.125347",
     "exception": false,
     "start_time": "2024-11-07T13:39:03.416764",
     "status": "completed"
    },
    "tags": []
   },
   "outputs": [],
   "source": [
    "rfc = RandomForestClassifier(n_estimators=200)\n",
    "rfc.fit(X_train, y_train)\n",
    "pred_rfc = rfc.predict(X_test)"
   ]
  },
  {
   "cell_type": "code",
   "execution_count": 23,
   "id": "0fa398ab",
   "metadata": {
    "execution": {
     "iopub.execute_input": "2024-11-07T13:39:04.155136Z",
     "iopub.status.busy": "2024-11-07T13:39:04.154251Z",
     "iopub.status.idle": "2024-11-07T13:39:04.169413Z",
     "shell.execute_reply": "2024-11-07T13:39:04.167772Z"
    },
    "papermill": {
     "duration": 0.032762,
     "end_time": "2024-11-07T13:39:04.172007",
     "exception": false,
     "start_time": "2024-11-07T13:39:04.139245",
     "status": "completed"
    },
    "tags": []
   },
   "outputs": [
    {
     "name": "stdout",
     "output_type": "stream",
     "text": [
      "              precision    recall  f1-score   support\n",
      "\n",
      "           0       0.92      0.97      0.94       273\n",
      "           1       0.74      0.53      0.62        47\n",
      "\n",
      "    accuracy                           0.90       320\n",
      "   macro avg       0.83      0.75      0.78       320\n",
      "weighted avg       0.90      0.90      0.90       320\n",
      "\n"
     ]
    }
   ],
   "source": [
    "#Let's see how our model performed\n",
    "print(classification_report(y_test, pred_rfc))"
   ]
  },
  {
   "cell_type": "code",
   "execution_count": 24,
   "id": "07b7b35e",
   "metadata": {
    "execution": {
     "iopub.execute_input": "2024-11-07T13:39:04.201035Z",
     "iopub.status.busy": "2024-11-07T13:39:04.200163Z",
     "iopub.status.idle": "2024-11-07T13:39:04.208438Z",
     "shell.execute_reply": "2024-11-07T13:39:04.207316Z"
    },
    "papermill": {
     "duration": 0.024994,
     "end_time": "2024-11-07T13:39:04.210558",
     "exception": false,
     "start_time": "2024-11-07T13:39:04.185564",
     "status": "completed"
    },
    "tags": []
   },
   "outputs": [
    {
     "name": "stdout",
     "output_type": "stream",
     "text": [
      "[[264   9]\n",
      " [ 22  25]]\n"
     ]
    }
   ],
   "source": [
    "# Confusion Matrix for the Random Forest Classification\n",
    "print(confusion_matrix(y_test, pred_rfc))"
   ]
  },
  {
   "cell_type": "markdown",
   "id": "a0b5faa1",
   "metadata": {
    "papermill": {
     "duration": 0.012479,
     "end_time": "2024-11-07T13:39:04.235722",
     "exception": false,
     "start_time": "2024-11-07T13:39:04.223243",
     "status": "completed"
    },
    "tags": []
   },
   "source": [
    "**Stochastic Gradient Decent Classifier**"
   ]
  },
  {
   "cell_type": "code",
   "execution_count": 25,
   "id": "21e66ee1",
   "metadata": {
    "execution": {
     "iopub.execute_input": "2024-11-07T13:39:04.263460Z",
     "iopub.status.busy": "2024-11-07T13:39:04.262749Z",
     "iopub.status.idle": "2024-11-07T13:39:04.275848Z",
     "shell.execute_reply": "2024-11-07T13:39:04.274640Z"
    },
    "papermill": {
     "duration": 0.029726,
     "end_time": "2024-11-07T13:39:04.278435",
     "exception": false,
     "start_time": "2024-11-07T13:39:04.248709",
     "status": "completed"
    },
    "tags": []
   },
   "outputs": [],
   "source": [
    "sgd = SGDClassifier(penalty=None)\n",
    "sgd.fit(X_train, y_train)\n",
    "\n",
    "pred_sgd = sgd.predict(X_test)"
   ]
  },
  {
   "cell_type": "code",
   "execution_count": 26,
   "id": "c546b8f6",
   "metadata": {
    "execution": {
     "iopub.execute_input": "2024-11-07T13:39:04.306162Z",
     "iopub.status.busy": "2024-11-07T13:39:04.305175Z",
     "iopub.status.idle": "2024-11-07T13:39:04.320298Z",
     "shell.execute_reply": "2024-11-07T13:39:04.319026Z"
    },
    "papermill": {
     "duration": 0.031536,
     "end_time": "2024-11-07T13:39:04.322786",
     "exception": false,
     "start_time": "2024-11-07T13:39:04.291250",
     "status": "completed"
    },
    "tags": []
   },
   "outputs": [
    {
     "name": "stdout",
     "output_type": "stream",
     "text": [
      "              precision    recall  f1-score   support\n",
      "\n",
      "           0       0.92      0.88      0.90       273\n",
      "           1       0.44      0.53      0.48        47\n",
      "\n",
      "    accuracy                           0.83       320\n",
      "   macro avg       0.68      0.71      0.69       320\n",
      "weighted avg       0.85      0.83      0.84       320\n",
      "\n"
     ]
    }
   ],
   "source": [
    "print(classification_report(y_test, pred_sgd))"
   ]
  },
  {
   "cell_type": "code",
   "execution_count": 27,
   "id": "3b7d0a21",
   "metadata": {
    "execution": {
     "iopub.execute_input": "2024-11-07T13:39:04.352062Z",
     "iopub.status.busy": "2024-11-07T13:39:04.351632Z",
     "iopub.status.idle": "2024-11-07T13:39:04.360627Z",
     "shell.execute_reply": "2024-11-07T13:39:04.359345Z"
    },
    "papermill": {
     "duration": 0.027356,
     "end_time": "2024-11-07T13:39:04.362996",
     "exception": false,
     "start_time": "2024-11-07T13:39:04.335640",
     "status": "completed"
    },
    "tags": []
   },
   "outputs": [
    {
     "name": "stdout",
     "output_type": "stream",
     "text": [
      "[[241  32]\n",
      " [ 22  25]]\n"
     ]
    }
   ],
   "source": [
    "print(confusion_matrix(y_test, pred_sgd))"
   ]
  },
  {
   "cell_type": "markdown",
   "id": "add55999",
   "metadata": {
    "papermill": {
     "duration": 0.013017,
     "end_time": "2024-11-07T13:39:04.390031",
     "exception": false,
     "start_time": "2024-11-07T13:39:04.377014",
     "status": "completed"
    },
    "tags": []
   },
   "source": [
    "**Support Vector Classifier**"
   ]
  },
  {
   "cell_type": "code",
   "execution_count": 28,
   "id": "37521d34",
   "metadata": {
    "execution": {
     "iopub.execute_input": "2024-11-07T13:39:04.418007Z",
     "iopub.status.busy": "2024-11-07T13:39:04.417605Z",
     "iopub.status.idle": "2024-11-07T13:39:04.460923Z",
     "shell.execute_reply": "2024-11-07T13:39:04.459726Z"
    },
    "papermill": {
     "duration": 0.060219,
     "end_time": "2024-11-07T13:39:04.463580",
     "exception": false,
     "start_time": "2024-11-07T13:39:04.403361",
     "status": "completed"
    },
    "tags": []
   },
   "outputs": [],
   "source": [
    "svc = SVC()\n",
    "svc.fit(X_train, y_train)\n",
    "\n",
    "pred_svc = svc.predict(X_test)"
   ]
  },
  {
   "cell_type": "code",
   "execution_count": 29,
   "id": "19c1ea97",
   "metadata": {
    "execution": {
     "iopub.execute_input": "2024-11-07T13:39:04.491241Z",
     "iopub.status.busy": "2024-11-07T13:39:04.490777Z",
     "iopub.status.idle": "2024-11-07T13:39:04.505545Z",
     "shell.execute_reply": "2024-11-07T13:39:04.504177Z"
    },
    "papermill": {
     "duration": 0.031069,
     "end_time": "2024-11-07T13:39:04.507835",
     "exception": false,
     "start_time": "2024-11-07T13:39:04.476766",
     "status": "completed"
    },
    "tags": []
   },
   "outputs": [
    {
     "name": "stdout",
     "output_type": "stream",
     "text": [
      "              precision    recall  f1-score   support\n",
      "\n",
      "           0       0.88      0.98      0.93       273\n",
      "           1       0.71      0.26      0.37        47\n",
      "\n",
      "    accuracy                           0.88       320\n",
      "   macro avg       0.80      0.62      0.65       320\n",
      "weighted avg       0.86      0.88      0.85       320\n",
      "\n"
     ]
    }
   ],
   "source": [
    "print(classification_report(y_test, pred_svc))"
   ]
  },
  {
   "cell_type": "markdown",
   "id": "cae37967",
   "metadata": {
    "papermill": {
     "duration": 0.0127,
     "end_time": "2024-11-07T13:39:04.533594",
     "exception": false,
     "start_time": "2024-11-07T13:39:04.520894",
     "status": "completed"
    },
    "tags": []
   },
   "source": [
    "**Let's try to increase the accuracy of models**"
   ]
  },
  {
   "cell_type": "markdown",
   "id": "eb34a3e2",
   "metadata": {
    "papermill": {
     "duration": 0.012606,
     "end_time": "2024-11-07T13:39:04.559556",
     "exception": false,
     "start_time": "2024-11-07T13:39:04.546950",
     "status": "completed"
    },
    "tags": []
   },
   "source": [
    "**Grid Search CV**\n",
    "\n",
    "it tries every possible combination of hyperparameters, computationally expensive, doesn't scale well with more hyperparameters"
   ]
  },
  {
   "cell_type": "code",
   "execution_count": 30,
   "id": "b0b0a9fb",
   "metadata": {
    "execution": {
     "iopub.execute_input": "2024-11-07T13:39:04.587077Z",
     "iopub.status.busy": "2024-11-07T13:39:04.586664Z",
     "iopub.status.idle": "2024-11-07T13:39:04.592865Z",
     "shell.execute_reply": "2024-11-07T13:39:04.591699Z"
    },
    "papermill": {
     "duration": 0.022683,
     "end_time": "2024-11-07T13:39:04.595150",
     "exception": false,
     "start_time": "2024-11-07T13:39:04.572467",
     "status": "completed"
    },
    "tags": []
   },
   "outputs": [],
   "source": [
    "#Finding the best parameters for our SVC model\n",
    "param = {\n",
    "    'C': [0.1,0.8,0.9,1,1.1,1.2,1.3,1.4],\n",
    "    'kernel':['linear', 'rbf'],\n",
    "    'gamma' :[0.1,0.8,0.9,1,1.1,1.2,1.3,1.4]\n",
    "}\n",
    "\n",
    "grid_svc = GridSearchCV(svc, param_grid=param, scoring=\"accuracy\", cv=10)\n",
    "\n",
    "#param_grid -> specifies hyperparameters and their possible values that you want to optimize\n",
    "#Grid Search will try every combination of these parameters to find the set that has the best accuracy on cross-validation set"
   ]
  },
  {
   "cell_type": "code",
   "execution_count": 31,
   "id": "eeedb847",
   "metadata": {
    "execution": {
     "iopub.execute_input": "2024-11-07T13:39:04.622865Z",
     "iopub.status.busy": "2024-11-07T13:39:04.622472Z",
     "iopub.status.idle": "2024-11-07T13:39:55.291014Z",
     "shell.execute_reply": "2024-11-07T13:39:55.289730Z"
    },
    "papermill": {
     "duration": 50.699204,
     "end_time": "2024-11-07T13:39:55.307396",
     "exception": false,
     "start_time": "2024-11-07T13:39:04.608192",
     "status": "completed"
    },
    "tags": []
   },
   "outputs": [
    {
     "data": {
      "text/html": [
       "<style>#sk-container-id-1 {color: black;background-color: white;}#sk-container-id-1 pre{padding: 0;}#sk-container-id-1 div.sk-toggleable {background-color: white;}#sk-container-id-1 label.sk-toggleable__label {cursor: pointer;display: block;width: 100%;margin-bottom: 0;padding: 0.3em;box-sizing: border-box;text-align: center;}#sk-container-id-1 label.sk-toggleable__label-arrow:before {content: \"▸\";float: left;margin-right: 0.25em;color: #696969;}#sk-container-id-1 label.sk-toggleable__label-arrow:hover:before {color: black;}#sk-container-id-1 div.sk-estimator:hover label.sk-toggleable__label-arrow:before {color: black;}#sk-container-id-1 div.sk-toggleable__content {max-height: 0;max-width: 0;overflow: hidden;text-align: left;background-color: #f0f8ff;}#sk-container-id-1 div.sk-toggleable__content pre {margin: 0.2em;color: black;border-radius: 0.25em;background-color: #f0f8ff;}#sk-container-id-1 input.sk-toggleable__control:checked~div.sk-toggleable__content {max-height: 200px;max-width: 100%;overflow: auto;}#sk-container-id-1 input.sk-toggleable__control:checked~label.sk-toggleable__label-arrow:before {content: \"▾\";}#sk-container-id-1 div.sk-estimator input.sk-toggleable__control:checked~label.sk-toggleable__label {background-color: #d4ebff;}#sk-container-id-1 div.sk-label input.sk-toggleable__control:checked~label.sk-toggleable__label {background-color: #d4ebff;}#sk-container-id-1 input.sk-hidden--visually {border: 0;clip: rect(1px 1px 1px 1px);clip: rect(1px, 1px, 1px, 1px);height: 1px;margin: -1px;overflow: hidden;padding: 0;position: absolute;width: 1px;}#sk-container-id-1 div.sk-estimator {font-family: monospace;background-color: #f0f8ff;border: 1px dotted black;border-radius: 0.25em;box-sizing: border-box;margin-bottom: 0.5em;}#sk-container-id-1 div.sk-estimator:hover {background-color: #d4ebff;}#sk-container-id-1 div.sk-parallel-item::after {content: \"\";width: 100%;border-bottom: 1px solid gray;flex-grow: 1;}#sk-container-id-1 div.sk-label:hover label.sk-toggleable__label {background-color: #d4ebff;}#sk-container-id-1 div.sk-serial::before {content: \"\";position: absolute;border-left: 1px solid gray;box-sizing: border-box;top: 0;bottom: 0;left: 50%;z-index: 0;}#sk-container-id-1 div.sk-serial {display: flex;flex-direction: column;align-items: center;background-color: white;padding-right: 0.2em;padding-left: 0.2em;position: relative;}#sk-container-id-1 div.sk-item {position: relative;z-index: 1;}#sk-container-id-1 div.sk-parallel {display: flex;align-items: stretch;justify-content: center;background-color: white;position: relative;}#sk-container-id-1 div.sk-item::before, #sk-container-id-1 div.sk-parallel-item::before {content: \"\";position: absolute;border-left: 1px solid gray;box-sizing: border-box;top: 0;bottom: 0;left: 50%;z-index: -1;}#sk-container-id-1 div.sk-parallel-item {display: flex;flex-direction: column;z-index: 1;position: relative;background-color: white;}#sk-container-id-1 div.sk-parallel-item:first-child::after {align-self: flex-end;width: 50%;}#sk-container-id-1 div.sk-parallel-item:last-child::after {align-self: flex-start;width: 50%;}#sk-container-id-1 div.sk-parallel-item:only-child::after {width: 0;}#sk-container-id-1 div.sk-dashed-wrapped {border: 1px dashed gray;margin: 0 0.4em 0.5em 0.4em;box-sizing: border-box;padding-bottom: 0.4em;background-color: white;}#sk-container-id-1 div.sk-label label {font-family: monospace;font-weight: bold;display: inline-block;line-height: 1.2em;}#sk-container-id-1 div.sk-label-container {text-align: center;}#sk-container-id-1 div.sk-container {/* jupyter's `normalize.less` sets `[hidden] { display: none; }` but bootstrap.min.css set `[hidden] { display: none !important; }` so we also need the `!important` here to be able to override the default hidden behavior on the sphinx rendered scikit-learn.org. See: https://github.com/scikit-learn/scikit-learn/issues/21755 */display: inline-block !important;position: relative;}#sk-container-id-1 div.sk-text-repr-fallback {display: none;}</style><div id=\"sk-container-id-1\" class=\"sk-top-container\"><div class=\"sk-text-repr-fallback\"><pre>GridSearchCV(cv=10, estimator=SVC(),\n",
       "             param_grid={&#x27;C&#x27;: [0.1, 0.8, 0.9, 1, 1.1, 1.2, 1.3, 1.4],\n",
       "                         &#x27;gamma&#x27;: [0.1, 0.8, 0.9, 1, 1.1, 1.2, 1.3, 1.4],\n",
       "                         &#x27;kernel&#x27;: [&#x27;linear&#x27;, &#x27;rbf&#x27;]},\n",
       "             scoring=&#x27;accuracy&#x27;)</pre><b>In a Jupyter environment, please rerun this cell to show the HTML representation or trust the notebook. <br />On GitHub, the HTML representation is unable to render, please try loading this page with nbviewer.org.</b></div><div class=\"sk-container\" hidden><div class=\"sk-item sk-dashed-wrapped\"><div class=\"sk-label-container\"><div class=\"sk-label sk-toggleable\"><input class=\"sk-toggleable__control sk-hidden--visually\" id=\"sk-estimator-id-1\" type=\"checkbox\" ><label for=\"sk-estimator-id-1\" class=\"sk-toggleable__label sk-toggleable__label-arrow\">GridSearchCV</label><div class=\"sk-toggleable__content\"><pre>GridSearchCV(cv=10, estimator=SVC(),\n",
       "             param_grid={&#x27;C&#x27;: [0.1, 0.8, 0.9, 1, 1.1, 1.2, 1.3, 1.4],\n",
       "                         &#x27;gamma&#x27;: [0.1, 0.8, 0.9, 1, 1.1, 1.2, 1.3, 1.4],\n",
       "                         &#x27;kernel&#x27;: [&#x27;linear&#x27;, &#x27;rbf&#x27;]},\n",
       "             scoring=&#x27;accuracy&#x27;)</pre></div></div></div><div class=\"sk-parallel\"><div class=\"sk-parallel-item\"><div class=\"sk-item\"><div class=\"sk-label-container\"><div class=\"sk-label sk-toggleable\"><input class=\"sk-toggleable__control sk-hidden--visually\" id=\"sk-estimator-id-2\" type=\"checkbox\" ><label for=\"sk-estimator-id-2\" class=\"sk-toggleable__label sk-toggleable__label-arrow\">estimator: SVC</label><div class=\"sk-toggleable__content\"><pre>SVC()</pre></div></div></div><div class=\"sk-serial\"><div class=\"sk-item\"><div class=\"sk-estimator sk-toggleable\"><input class=\"sk-toggleable__control sk-hidden--visually\" id=\"sk-estimator-id-3\" type=\"checkbox\" ><label for=\"sk-estimator-id-3\" class=\"sk-toggleable__label sk-toggleable__label-arrow\">SVC</label><div class=\"sk-toggleable__content\"><pre>SVC()</pre></div></div></div></div></div></div></div></div></div></div>"
      ],
      "text/plain": [
       "GridSearchCV(cv=10, estimator=SVC(),\n",
       "             param_grid={'C': [0.1, 0.8, 0.9, 1, 1.1, 1.2, 1.3, 1.4],\n",
       "                         'gamma': [0.1, 0.8, 0.9, 1, 1.1, 1.2, 1.3, 1.4],\n",
       "                         'kernel': ['linear', 'rbf']},\n",
       "             scoring='accuracy')"
      ]
     },
     "execution_count": 31,
     "metadata": {},
     "output_type": "execute_result"
    }
   ],
   "source": [
    "grid_svc.fit(X_train, y_train)\n",
    "\n",
    "#When you call fit() on GridSearchCV it tries each combination of hyperparameters and for each combination of hyperparameters\n",
    "#GridSearchCV performs cross validation, it splits the training data into n folds, it trains the model on n-1 folds and evaluates it on the remaining fold\n",
    "#Repeating this process n times, each time using different fold for evaluation. \n",
    "#After evaluating all combinations, GridSearchCV identifies combination of parameters that has the highest cross-validation accuracy"
   ]
  },
  {
   "cell_type": "code",
   "execution_count": 32,
   "id": "7e9d01eb",
   "metadata": {
    "execution": {
     "iopub.execute_input": "2024-11-07T13:39:55.336165Z",
     "iopub.status.busy": "2024-11-07T13:39:55.335715Z",
     "iopub.status.idle": "2024-11-07T13:39:55.342636Z",
     "shell.execute_reply": "2024-11-07T13:39:55.341674Z"
    },
    "papermill": {
     "duration": 0.024112,
     "end_time": "2024-11-07T13:39:55.344833",
     "exception": false,
     "start_time": "2024-11-07T13:39:55.320721",
     "status": "completed"
    },
    "tags": []
   },
   "outputs": [
    {
     "data": {
      "text/plain": [
       "{'C': 1.2, 'gamma': 0.9, 'kernel': 'rbf'}"
      ]
     },
     "execution_count": 32,
     "metadata": {},
     "output_type": "execute_result"
    }
   ],
   "source": [
    "#Best Parameters for our SVC model\n",
    "grid_svc.best_params_"
   ]
  },
  {
   "cell_type": "code",
   "execution_count": 33,
   "id": "fea9ec60",
   "metadata": {
    "execution": {
     "iopub.execute_input": "2024-11-07T13:39:55.373878Z",
     "iopub.status.busy": "2024-11-07T13:39:55.373424Z",
     "iopub.status.idle": "2024-11-07T13:39:55.471181Z",
     "shell.execute_reply": "2024-11-07T13:39:55.469627Z"
    },
    "papermill": {
     "duration": 0.115178,
     "end_time": "2024-11-07T13:39:55.473517",
     "exception": false,
     "start_time": "2024-11-07T13:39:55.358339",
     "status": "completed"
    },
    "tags": []
   },
   "outputs": [
    {
     "name": "stdout",
     "output_type": "stream",
     "text": [
      "              precision    recall  f1-score   support\n",
      "\n",
      "           0       0.90      0.99      0.94       273\n",
      "           1       0.85      0.36      0.51        47\n",
      "\n",
      "    accuracy                           0.90       320\n",
      "   macro avg       0.88      0.68      0.72       320\n",
      "weighted avg       0.89      0.90      0.88       320\n",
      "\n"
     ]
    }
   ],
   "source": [
    "#Let's run our SVC again with the best parameters\n",
    "svc2 = SVC(C=1.2, gamma=0.9, kernel=\"rbf\")\n",
    "svc2.fit(X_train, y_train)\n",
    "\n",
    "pred_svc2 = svc2.predict(X_test)\n",
    "print(classification_report(y_test, pred_svc2))"
   ]
  },
  {
   "cell_type": "markdown",
   "id": "0098f38c",
   "metadata": {
    "papermill": {
     "duration": 0.013163,
     "end_time": "2024-11-07T13:39:55.500344",
     "exception": false,
     "start_time": "2024-11-07T13:39:55.487181",
     "status": "completed"
    },
    "tags": []
   },
   "source": [
    "**Cross Validation Score for Random Forest and SGD**"
   ]
  },
  {
   "cell_type": "code",
   "execution_count": 34,
   "id": "377bb29c",
   "metadata": {
    "execution": {
     "iopub.execute_input": "2024-11-07T13:39:55.529698Z",
     "iopub.status.busy": "2024-11-07T13:39:55.528730Z",
     "iopub.status.idle": "2024-11-07T13:40:01.652968Z",
     "shell.execute_reply": "2024-11-07T13:40:01.651350Z"
    },
    "papermill": {
     "duration": 6.14235,
     "end_time": "2024-11-07T13:40:01.656304",
     "exception": false,
     "start_time": "2024-11-07T13:39:55.513954",
     "status": "completed"
    },
    "tags": []
   },
   "outputs": [
    {
     "data": {
      "text/plain": [
       "0.9108882874015748"
      ]
     },
     "execution_count": 34,
     "metadata": {},
     "output_type": "execute_result"
    }
   ],
   "source": [
    "#Let's try to do some evaluation for random forest model using cross validation\n",
    "rfc_eval = cross_val_score(estimator=rfc, X=X_train, y=y_train, cv=10)\n",
    "rfc_eval.mean()"
   ]
  }
 ],
 "metadata": {
  "kaggle": {
   "accelerator": "none",
   "dataSources": [
    {
     "datasetId": 4458,
     "sourceId": 8204,
     "sourceType": "datasetVersion"
    }
   ],
   "dockerImageVersionId": 30786,
   "isGpuEnabled": false,
   "isInternetEnabled": false,
   "language": "python",
   "sourceType": "notebook"
  },
  "kernelspec": {
   "display_name": "Python 3",
   "language": "python",
   "name": "python3"
  },
  "language_info": {
   "codemirror_mode": {
    "name": "ipython",
    "version": 3
   },
   "file_extension": ".py",
   "mimetype": "text/x-python",
   "name": "python",
   "nbconvert_exporter": "python",
   "pygments_lexer": "ipython3",
   "version": "3.10.14"
  },
  "papermill": {
   "default_parameters": {},
   "duration": 69.024824,
   "end_time": "2024-11-07T13:40:02.393337",
   "environment_variables": {},
   "exception": null,
   "input_path": "__notebook__.ipynb",
   "output_path": "__notebook__.ipynb",
   "parameters": {},
   "start_time": "2024-11-07T13:38:53.368513",
   "version": "2.6.0"
  }
 },
 "nbformat": 4,
 "nbformat_minor": 5
}
